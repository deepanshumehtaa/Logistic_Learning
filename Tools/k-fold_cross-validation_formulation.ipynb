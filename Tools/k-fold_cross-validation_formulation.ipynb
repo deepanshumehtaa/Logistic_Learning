{
 "cells": [
  {
   "cell_type": "markdown",
   "metadata": {},
   "source": [
    "\\begin{equation}\n",
    "    let\\quad \\left(D=|\\{\\mathrm{ds}\\}|\\right), \\left(h=\\left\\lceil\\frac{D}{k}\\right\\rceil\\right), (i=1,\\ldots,k), (\\tau=i)\n",
    "\\end{equation}\n",
    "\n",
    "---\n",
    "\n",
    "\\begin{equation}\t\n",
    "\t\\begin{split}\n",
    "\t\t\\mathrm{folds}_i = \\{\\mathrm{ds}\\}_{j=(i-1)\\times h}^{\\min({D,\\ {i \\times h}})-1} \\\\\n",
    "\t\t\\mathrm{folds} = \\cup_i\\ \\mathrm{folds}_i \\\\\n",
    "\t\t\\{\\mathrm{test}\\}^{<\\tau>} = \\mathrm{folds}_i, \\{\\mathrm{train}\\}^{<\\tau>} = \\mathrm{folds}\\setminus\\mathrm{folds}_i \\\\\n",
    "\t\t{J}^{\\{\\mathrm{test}\\}} = \\frac{1}{k}\\sum_{\\tau=1}^{k}{{J}^{\\{\\mathrm{test}\\}^{<\\tau>}}}\n",
    "\t\\end{split}\t\n",
    "\\end{equation}"
   ]
  }
 ],
 "metadata": {
  "kernelspec": {
   "display_name": "Python 3",
   "language": "python",
   "name": "python3"
  },
  "language_info": {
   "codemirror_mode": {
    "name": "ipython",
    "version": 3
   },
   "file_extension": ".py",
   "mimetype": "text/x-python",
   "name": "python",
   "nbconvert_exporter": "python",
   "pygments_lexer": "ipython3",
   "version": "3.6.6"
  }
 },
 "nbformat": 4,
 "nbformat_minor": 2
}
